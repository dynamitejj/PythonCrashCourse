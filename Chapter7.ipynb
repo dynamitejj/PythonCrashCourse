{
 "cells": [
  {
   "cell_type": "code",
   "execution_count": 7,
   "metadata": {},
   "outputs": [],
   "source": [
    "\"\"\"message = input(\"Tell me something, and I will repeat it back to you: \")\n",
    "print(message)\n",
    "\n",
    "\n",
    "\n",
    "prompt = \"If you share your name, we can personalize the messages you see.\"\n",
    "prompt += \"\\nWhat is your first name?: \"\n",
    "\n",
    "name = input(prompt)\n",
    "print(f\"\\nHello, {name.title()}!\")\n",
    "\n",
    "\"\"\"\n",
    "age = input(\"How old are you? \")\n",
    "\n"
   ]
  },
  {
   "cell_type": "code",
   "execution_count": 18,
   "metadata": {},
   "outputs": [
    {
     "name": "stdout",
     "output_type": "stream",
     "text": [
      "\n",
      "The number 27 is odd.\n"
     ]
    }
   ],
   "source": [
    "age = int(age)\n",
    "\n",
    "number = 27\n",
    "if number % 2 == 0:\n",
    "    print(f\"\\nThe number {number} is even.\")\n",
    "else:\n",
    "    print(f\"\\nThe number {number} is odd.\")"
   ]
  },
  {
   "cell_type": "code",
   "execution_count": 19,
   "metadata": {},
   "outputs": [
    {
     "name": "stdout",
     "output_type": "stream",
     "text": [
      "Let me see if I can find you a Subaru.\n"
     ]
    }
   ],
   "source": [
    "#7-1\n",
    "rental_car = input(\"What kind of rental car would you like? \")\n",
    "print(f\"Let me see if I can find you a {rental_car}.\")"
   ]
  },
  {
   "cell_type": "code",
   "execution_count": 21,
   "metadata": {},
   "outputs": [
    {
     "name": "stdout",
     "output_type": "stream",
     "text": [
      "Your table is ready.\n"
     ]
    }
   ],
   "source": [
    "#7-2 Restaurant Seating\n",
    "dinner_party = input(\"How many people are in your dinner party? \")\n",
    "dinner_party = int(dinner_party)\n",
    "\n",
    "if dinner_party > 8:\n",
    "    print(f\"We apologize. There's currently a wait for parties of more than {dinner_party}.\")\n",
    "else:\n",
    "    print(f\"Your table is ready.\")"
   ]
  },
  {
   "cell_type": "code",
   "execution_count": 23,
   "metadata": {},
   "outputs": [
    {
     "name": "stdout",
     "output_type": "stream",
     "text": [
      "No, 34 is not a multiple of 10.\n"
     ]
    }
   ],
   "source": [
    "#7-3 Multiples of Ten\n",
    "number = input(\"Enter any number and I'll let you know if it's a multiple of 10 or not. \")\n",
    "number = int(number)\n",
    "\n",
    "if number % 10 == 0:\n",
    "    print(f\"Yes, {number} is a multiple of 10.\")\n",
    "else:\n",
    "    print(f\"No, {number} is not a multiple of 10.\")"
   ]
  },
  {
   "cell_type": "code",
   "execution_count": 27,
   "metadata": {},
   "outputs": [
    {
     "name": "stdout",
     "output_type": "stream",
     "text": [
      "1\n",
      "3\n",
      "5\n",
      "7\n",
      "9\n"
     ]
    }
   ],
   "source": [
    "current_number = 0\n",
    "while current_number < 10:\n",
    "    current_number += 1\n",
    "    \n",
    "    if current_number % 2 == 0:\n",
    "        continue\n",
    "    \n",
    "    print(current_number)\n",
    "    "
   ]
  },
  {
   "cell_type": "code",
   "execution_count": 26,
   "metadata": {},
   "outputs": [
    {
     "name": "stdout",
     "output_type": "stream",
     "text": [
      "Hello\n",
      "Hello again!\n",
      "Hi there\n"
     ]
    }
   ],
   "source": [
    "prompt = \"\\nTell me something, and I will repeat it back to you:\"\n",
    "prompt += \"\\nEnter 'quit' to end the program. \"\n",
    "\n",
    "active = True\n",
    "\n",
    "while active:\n",
    "    message = input(prompt)\n",
    "    \n",
    "    if message == 'quit':\n",
    "        #active = False\n",
    "        break\n",
    "    else:\n",
    "        print(message)"
   ]
  },
  {
   "cell_type": "code",
   "execution_count": 28,
   "metadata": {},
   "outputs": [
    {
     "name": "stdout",
     "output_type": "stream",
     "text": [
      "\tAdding cheese to your pizza.\n",
      "\tAdding pepperoni to your pizza.\n",
      "\tAdding anchovies to your pizza.\n",
      "Thank you for ordering.\n"
     ]
    }
   ],
   "source": [
    "#7-4\n",
    "prompt = \"\\nPlease enter your toppings for the pizza: \"\n",
    "prompt += \"Once done, enter 'quit'.\"\n",
    "\n",
    "active = True\n",
    "while active:\n",
    "    order = input(prompt)\n",
    "    \n",
    "    if order == 'quit':\n",
    "        print(\"Thank you for ordering.\")\n",
    "        active = False\n",
    "        break\n",
    "    else:\n",
    "        print(f\"\\tAdding {order} to your pizza.\")\n",
    "        continue"
   ]
  },
  {
   "cell_type": "code",
   "execution_count": 30,
   "metadata": {},
   "outputs": [
    {
     "name": "stdout",
     "output_type": "stream",
     "text": [
      "The cost of your ticket is $10\n",
      "The cost of your ticket is $10\n",
      "The cost of your ticket is $10\n",
      "The cost of your ticket is $0\n",
      "The cost of your ticket is $0\n",
      "The cost of your ticket is $10\n"
     ]
    },
    {
     "ename": "ValueError",
     "evalue": "invalid literal for int() with base 10: ''",
     "output_type": "error",
     "traceback": [
      "\u001b[0;31m---------------------------------------------------------------------------\u001b[0m",
      "\u001b[0;31mValueError\u001b[0m                                Traceback (most recent call last)",
      "Cell \u001b[0;32mIn[30], line 7\u001b[0m\n\u001b[1;32m      4\u001b[0m process_flag \u001b[38;5;241m=\u001b[39m\u001b[38;5;28;01mTrue\u001b[39;00m\n\u001b[1;32m      6\u001b[0m \u001b[38;5;28;01mwhile\u001b[39;00m process_flag:\n\u001b[0;32m----> 7\u001b[0m     customer_age \u001b[38;5;241m=\u001b[39m \u001b[38;5;28;43mint\u001b[39;49m\u001b[43m(\u001b[49m\u001b[38;5;28;43minput\u001b[39;49m\u001b[43m(\u001b[49m\u001b[43mprompt\u001b[49m\u001b[43m)\u001b[49m\u001b[43m)\u001b[49m\n\u001b[1;32m      9\u001b[0m     \u001b[38;5;28;01mif\u001b[39;00m customer_age \u001b[38;5;241m<\u001b[39m \u001b[38;5;241m3\u001b[39m:\n\u001b[1;32m     10\u001b[0m         ticket_price \u001b[38;5;241m=\u001b[39m \u001b[38;5;241m0\u001b[39m\n",
      "\u001b[0;31mValueError\u001b[0m: invalid literal for int() with base 10: ''"
     ]
    }
   ],
   "source": [
    "#7-5 Movie Tickets\n",
    "prompt = \"Please enter your age: \"\n",
    "\n",
    "process_flag =True\n",
    "\n",
    "while process_flag:\n",
    "    customer_age = int(input(prompt))\n",
    "    \n",
    "    if customer_age < 3:\n",
    "        ticket_price = 0\n",
    "    elif customer_age > 3 & customer_age < 12:\n",
    "        ticket_price = 10\n",
    "    elif current_number > 12:\n",
    "        ticket_price = 15\n",
    "    \n",
    "    print(f\"The cost of your ticket is ${ticket_price}\")"
   ]
  }
 ],
 "metadata": {
  "kernelspec": {
   "display_name": "Python 3",
   "language": "python",
   "name": "python3"
  },
  "language_info": {
   "codemirror_mode": {
    "name": "ipython",
    "version": 3
   },
   "file_extension": ".py",
   "mimetype": "text/x-python",
   "name": "python",
   "nbconvert_exporter": "python",
   "pygments_lexer": "ipython3",
   "version": "3.12.2"
  }
 },
 "nbformat": 4,
 "nbformat_minor": 2
}

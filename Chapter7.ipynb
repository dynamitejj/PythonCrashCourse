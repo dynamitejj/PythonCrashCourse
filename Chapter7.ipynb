{
 "cells": [
  {
   "cell_type": "code",
   "execution_count": 7,
   "metadata": {},
   "outputs": [],
   "source": [
    "\"\"\"message = input(\"Tell me something, and I will repeat it back to you: \")\n",
    "print(message)\n",
    "\n",
    "\n",
    "\n",
    "prompt = \"If you share your name, we can personalize the messages you see.\"\n",
    "prompt += \"\\nWhat is your first name?: \"\n",
    "\n",
    "name = input(prompt)\n",
    "print(f\"\\nHello, {name.title()}!\")\n",
    "\n",
    "\"\"\"\n",
    "age = input(\"How old are you? \")\n",
    "\n"
   ]
  },
  {
   "cell_type": "code",
   "execution_count": 18,
   "metadata": {},
   "outputs": [
    {
     "name": "stdout",
     "output_type": "stream",
     "text": [
      "\n",
      "The number 27 is odd.\n"
     ]
    }
   ],
   "source": [
    "age = int(age)\n",
    "\n",
    "number = 27\n",
    "if number % 2 == 0:\n",
    "    print(f\"\\nThe number {number} is even.\")\n",
    "else:\n",
    "    print(f\"\\nThe number {number} is odd.\")"
   ]
  },
  {
   "cell_type": "code",
   "execution_count": 19,
   "metadata": {},
   "outputs": [
    {
     "name": "stdout",
     "output_type": "stream",
     "text": [
      "Let me see if I can find you a Subaru.\n"
     ]
    }
   ],
   "source": [
    "#7-1\n",
    "rental_car = input(\"What kind of rental car would you like? \")\n",
    "print(f\"Let me see if I can find you a {rental_car}.\")"
   ]
  },
  {
   "cell_type": "code",
   "execution_count": 21,
   "metadata": {},
   "outputs": [
    {
     "name": "stdout",
     "output_type": "stream",
     "text": [
      "Your table is ready.\n"
     ]
    }
   ],
   "source": [
    "#7-2 Restaurant Seating\n",
    "dinner_party = input(\"How many people are in your dinner party? \")\n",
    "dinner_party = int(dinner_party)\n",
    "\n",
    "if dinner_party > 8:\n",
    "    print(f\"We apologize. There's currently a wait for parties of more than {dinner_party}.\")\n",
    "else:\n",
    "    print(f\"Your table is ready.\")"
   ]
  },
  {
   "cell_type": "code",
   "execution_count": 23,
   "metadata": {},
   "outputs": [
    {
     "name": "stdout",
     "output_type": "stream",
     "text": [
      "No, 34 is not a multiple of 10.\n"
     ]
    }
   ],
   "source": [
    "#7-3 Multiples of Ten\n",
    "number = input(\"Enter any number and I'll let you know if it's a multiple of 10 or not. \")\n",
    "number = int(number)\n",
    "\n",
    "if number % 10 == 0:\n",
    "    print(f\"Yes, {number} is a multiple of 10.\")\n",
    "else:\n",
    "    print(f\"No, {number} is not a multiple of 10.\")"
   ]
  }
 ],
 "metadata": {
  "kernelspec": {
   "display_name": "Python 3",
   "language": "python",
   "name": "python3"
  },
  "language_info": {
   "codemirror_mode": {
    "name": "ipython",
    "version": 3
   },
   "file_extension": ".py",
   "mimetype": "text/x-python",
   "name": "python",
   "nbconvert_exporter": "python",
   "pygments_lexer": "ipython3",
   "version": "3.12.2"
  }
 },
 "nbformat": 4,
 "nbformat_minor": 2
}

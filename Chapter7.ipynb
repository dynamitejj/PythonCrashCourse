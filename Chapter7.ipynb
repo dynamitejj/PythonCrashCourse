{
 "cells": [
  {
   "cell_type": "code",
   "execution_count": 7,
   "metadata": {},
   "outputs": [],
   "source": [
    "\"\"\"message = input(\"Tell me something, and I will repeat it back to you: \")\n",
    "print(message)\n",
    "\n",
    "\n",
    "\n",
    "prompt = \"If you share your name, we can personalize the messages you see.\"\n",
    "prompt += \"\\nWhat is your first name?: \"\n",
    "\n",
    "name = input(prompt)\n",
    "print(f\"\\nHello, {name.title()}!\")\n",
    "\n",
    "\"\"\"\n",
    "age = input(\"How old are you? \")\n",
    "\n"
   ]
  },
  {
   "cell_type": "code",
   "execution_count": 18,
   "metadata": {},
   "outputs": [
    {
     "name": "stdout",
     "output_type": "stream",
     "text": [
      "\n",
      "The number 27 is odd.\n"
     ]
    }
   ],
   "source": [
    "age = int(age)\n",
    "\n",
    "number = 27\n",
    "if number % 2 == 0:\n",
    "    print(f\"\\nThe number {number} is even.\")\n",
    "else:\n",
    "    print(f\"\\nThe number {number} is odd.\")"
   ]
  },
  {
   "cell_type": "code",
   "execution_count": 19,
   "metadata": {},
   "outputs": [
    {
     "name": "stdout",
     "output_type": "stream",
     "text": [
      "Let me see if I can find you a Subaru.\n"
     ]
    }
   ],
   "source": [
    "#7-1\n",
    "rental_car = input(\"What kind of rental car would you like? \")\n",
    "print(f\"Let me see if I can find you a {rental_car}.\")"
   ]
  },
  {
   "cell_type": "code",
   "execution_count": 21,
   "metadata": {},
   "outputs": [
    {
     "name": "stdout",
     "output_type": "stream",
     "text": [
      "Your table is ready.\n"
     ]
    }
   ],
   "source": [
    "#7-2 Restaurant Seating\n",
    "dinner_party = input(\"How many people are in your dinner party? \")\n",
    "dinner_party = int(dinner_party)\n",
    "\n",
    "if dinner_party > 8:\n",
    "    print(f\"We apologize. There's currently a wait for parties of more than {dinner_party}.\")\n",
    "else:\n",
    "    print(f\"Your table is ready.\")"
   ]
  },
  {
   "cell_type": "code",
   "execution_count": 23,
   "metadata": {},
   "outputs": [
    {
     "name": "stdout",
     "output_type": "stream",
     "text": [
      "No, 34 is not a multiple of 10.\n"
     ]
    }
   ],
   "source": [
    "#7-3 Multiples of Ten\n",
    "number = input(\"Enter any number and I'll let you know if it's a multiple of 10 or not. \")\n",
    "number = int(number)\n",
    "\n",
    "if number % 10 == 0:\n",
    "    print(f\"Yes, {number} is a multiple of 10.\")\n",
    "else:\n",
    "    print(f\"No, {number} is not a multiple of 10.\")"
   ]
  },
  {
   "cell_type": "code",
   "execution_count": 27,
   "metadata": {},
   "outputs": [
    {
     "name": "stdout",
     "output_type": "stream",
     "text": [
      "1\n",
      "3\n",
      "5\n",
      "7\n",
      "9\n"
     ]
    }
   ],
   "source": [
    "current_number = 0\n",
    "while current_number < 10:\n",
    "    current_number += 1\n",
    "    \n",
    "    if current_number % 2 == 0:\n",
    "        continue\n",
    "    \n",
    "    print(current_number)\n",
    "    "
   ]
  },
  {
   "cell_type": "code",
   "execution_count": 26,
   "metadata": {},
   "outputs": [
    {
     "name": "stdout",
     "output_type": "stream",
     "text": [
      "Hello\n",
      "Hello again!\n",
      "Hi there\n"
     ]
    }
   ],
   "source": [
    "prompt = \"\\nTell me something, and I will repeat it back to you:\"\n",
    "prompt += \"\\nEnter 'quit' to end the program. \"\n",
    "\n",
    "active = True\n",
    "\n",
    "while active:\n",
    "    message = input(prompt)\n",
    "    \n",
    "    if message == 'quit':\n",
    "        #active = False\n",
    "        break\n",
    "    else:\n",
    "        print(message)"
   ]
  },
  {
   "cell_type": "code",
   "execution_count": 28,
   "metadata": {},
   "outputs": [
    {
     "name": "stdout",
     "output_type": "stream",
     "text": [
      "\tAdding cheese to your pizza.\n",
      "\tAdding pepperoni to your pizza.\n",
      "\tAdding anchovies to your pizza.\n",
      "Thank you for ordering.\n"
     ]
    }
   ],
   "source": [
    "#7-4\n",
    "prompt = \"\\nPlease enter your toppings for the pizza: \"\n",
    "prompt += \"Once done, enter 'quit'.\"\n",
    "\n",
    "active = True\n",
    "while active:\n",
    "    order = input(prompt)\n",
    "    \n",
    "    if order == 'quit':\n",
    "        print(\"Thank you for ordering.\")\n",
    "        active = False\n",
    "        break\n",
    "    else:\n",
    "        print(f\"\\tAdding {order} to your pizza.\")\n",
    "        continue"
   ]
  },
  {
   "cell_type": "code",
   "execution_count": null,
   "metadata": {},
   "outputs": [],
   "source": [
    "#7-5 Movie Tickets\n",
    "prompt = \"Please enter your age: \"\n",
    "\n",
    "process_flag =True\n",
    "\n",
    "while process_flag:\n",
    "    customer_age = int(input(prompt))\n",
    "    \n",
    "    if customer_age < 3:\n",
    "        ticket_price = 0\n",
    "    elif customer_age > 3 & customer_age < 12:\n",
    "        ticket_price = 10\n",
    "    elif current_number > 12:\n",
    "        ticket_price = 15\n",
    "    \n",
    "    print(f\"The cost of your ticket is ${ticket_price}\")"
   ]
  },
  {
   "cell_type": "code",
   "execution_count": 36,
   "metadata": {},
   "outputs": [
    {
     "name": "stdout",
     "output_type": "stream",
     "text": [
      "\u001b[37mVerifying user: \u001b[94mCandace\n",
      "\u001b[37mVerifying user: \u001b[94mBrian\n",
      "\u001b[37mVerifying user: \u001b[94mAlice\n",
      "\u001b[37m\n",
      "The following users have been confirmed:\n",
      "\t\u001b[32mCandace\n",
      "\t\u001b[32mBrian\n",
      "\t\u001b[32mAlice\n"
     ]
    }
   ],
   "source": [
    "from colorama import Fore\n",
    "\n",
    "#Confirmed vs unconfirmed users\n",
    "\n",
    "#Start with users that need to be verified\n",
    "unconfirmed_users = ['alice','brian','candace']\n",
    "\n",
    "#Empty list to hold confirmed users\n",
    "confirmed_users = []\n",
    "\n",
    "#Verify each unconfirmed user\n",
    "while unconfirmed_users:\n",
    "    current_user = unconfirmed_users.pop()\n",
    "    print(f\"{Fore.WHITE}Verifying user: {Fore.LIGHTBLUE_EX}{current_user.title()}\")\n",
    "    confirmed_users.append(current_user)\n",
    "    \n",
    "#Display all confirmed users\n",
    "print(f\"{Fore.WHITE}\\nThe following users have been confirmed:\")\n",
    "for confirmed_user in confirmed_users:\n",
    "    print(f\"\\t{Fore.GREEN}{confirmed_user.title()}\")"
   ]
  },
  {
   "cell_type": "code",
   "execution_count": 38,
   "metadata": {},
   "outputs": [
    {
     "name": "stdout",
     "output_type": "stream",
     "text": [
      "\n",
      "--- Poll Results---\n",
      "john would like to climb Everest\n",
      "alisha would like to climb Rocky\n"
     ]
    }
   ],
   "source": [
    "responses = {}\n",
    "polling_active = True\n",
    "\n",
    "while polling_active:\n",
    "    name = input(\"What is your name?: \")\n",
    "    response = input(\"What mountain would you like to climb one day?: \")\n",
    "    \n",
    "    responses[name] = response\n",
    "    \n",
    "    repeat = input(\"Would you like to let another person respond (y/n)?: \")\n",
    "    if repeat == 'n':\n",
    "        polling_active = False\n",
    "\n",
    "#Polling complete\n",
    "print(\"\\n--- Poll Results---\")\n",
    "for name, response in responses.items():\n",
    "    print(f\"{name.title()} would like to climb {response.title()}\")"
   ]
  },
  {
   "cell_type": "code",
   "execution_count": 47,
   "metadata": {},
   "outputs": [
    {
     "name": "stdout",
     "output_type": "stream",
     "text": [
      "\u001b[37mCurrently working on your \u001b[36mtuna \u001b[37msandwich.\n",
      "\u001b[37mCurrently working on your \u001b[36mham and cheese \u001b[37msandwich.\n",
      "\u001b[37mCurrently working on your \u001b[36msalami \u001b[37msandwich.\n",
      "\u001b[37mCurrently working on your \u001b[36mrueben \u001b[37msandwich.\n",
      "\u001b[37mCurrently working on your \u001b[36mblt \u001b[37msandwich.\n",
      "\n",
      "All \u001b[35m5 \u001b[37msandwich orders were made.\n",
      "\u001b[37m\tI made a \u001b[36mtuna \u001b[37msandwich.\n",
      "\u001b[37m\tI made a \u001b[36mham and cheese \u001b[37msandwich.\n",
      "\u001b[37m\tI made a \u001b[36msalami \u001b[37msandwich.\n",
      "\u001b[37m\tI made a \u001b[36mrueben \u001b[37msandwich.\n",
      "\u001b[37m\tI made a \u001b[36mblt \u001b[37msandwich.\n"
     ]
    }
   ],
   "source": [
    "#7-8 Deli\n",
    "from colorama import Fore\n",
    "\n",
    "sandwich_orders = ['blt','rueben','salami','ham and cheese','tuna']\n",
    "order_count = len(sandwich_orders)\n",
    "finished_sandwiches = []\n",
    "\n",
    "while sandwich_orders:\n",
    "    current_order = sandwich_orders.pop()\n",
    "    print(f\"{Fore.WHITE}Currently working on your {Fore.CYAN}{current_order} {Fore.WHITE}sandwich.\")\n",
    "    finished_sandwiches.append(current_order)\n",
    "\n",
    "print(f\"\\nAll {Fore.MAGENTA}{order_count} {Fore.WHITE}sandwich orders were made.\")\n",
    "for sandwich in finished_sandwiches:\n",
    "    print(f\"{Fore.WHITE}\\tI made a {Fore.CYAN}{sandwich} {Fore.WHITE}sandwich.\")"
   ]
  },
  {
   "cell_type": "code",
   "execution_count": 48,
   "metadata": {},
   "outputs": [
    {
     "name": "stdout",
     "output_type": "stream",
     "text": [
      "Please note: we are all out of pastrami today unfortunately.\n",
      "\u001b[37mCurrently working on your \u001b[36mtuna \u001b[37msandwich.\n",
      "\u001b[37mCurrently working on your \u001b[36mham and cheese \u001b[37msandwich.\n",
      "\u001b[37mCurrently working on your \u001b[36msalami \u001b[37msandwich.\n",
      "\u001b[37mCurrently working on your \u001b[36mrueben \u001b[37msandwich.\n",
      "\u001b[37mCurrently working on your \u001b[36mblt \u001b[37msandwich.\n",
      "\n",
      "All \u001b[35m5 \u001b[37msandwich orders were made.\n",
      "\u001b[37m\tI made a \u001b[36mtuna \u001b[37msandwich.\n",
      "\u001b[37m\tI made a \u001b[36mham and cheese \u001b[37msandwich.\n",
      "\u001b[37m\tI made a \u001b[36msalami \u001b[37msandwich.\n",
      "\u001b[37m\tI made a \u001b[36mrueben \u001b[37msandwich.\n",
      "\u001b[37m\tI made a \u001b[36mblt \u001b[37msandwich.\n"
     ]
    }
   ],
   "source": [
    "#7-9 No Pastrami\n",
    "from colorama import Fore\n",
    "\n",
    "sandwich_orders = ['blt','pastrami','rueben','salami','pastrami','ham and cheese','pastrami','tuna']\n",
    "order_count = len(sandwich_orders)\n",
    "finished_sandwiches = []\n",
    "\n",
    "print(f\"Please note: we are all out of pastrami today unfortunately.\")\n",
    "\n",
    "while 'pastrami' in sandwich_orders:\n",
    "    sandwich_orders.remove('pastrami')\n",
    "  \n",
    "order_count = len(sandwich_orders)\n",
    "\n",
    "while sandwich_orders:\n",
    "    current_order = sandwich_orders.pop()\n",
    "    print(f\"{Fore.WHITE}Currently working on your {Fore.CYAN}{current_order} {Fore.WHITE}sandwich.\")\n",
    "    finished_sandwiches.append(current_order)\n",
    "\n",
    "print(f\"\\nAll {Fore.MAGENTA}{order_count} {Fore.WHITE}sandwich orders were made.\")\n",
    "for sandwich in finished_sandwiches:\n",
    "    print(f\"{Fore.WHITE}\\tI made a {Fore.CYAN}{sandwich} {Fore.WHITE}sandwich.\")\n",
    "    "
   ]
  }
 ],
 "metadata": {
  "kernelspec": {
   "display_name": "Python 3",
   "language": "python",
   "name": "python3"
  },
  "language_info": {
   "codemirror_mode": {
    "name": "ipython",
    "version": 3
   },
   "file_extension": ".py",
   "mimetype": "text/x-python",
   "name": "python",
   "nbconvert_exporter": "python",
   "pygments_lexer": "ipython3",
   "version": "3.12.2"
  }
 },
 "nbformat": 4,
 "nbformat_minor": 2
}

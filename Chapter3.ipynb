{
 "cells": [
  {
   "cell_type": "markdown",
   "metadata": {},
   "source": [
    "Introduction to Lists"
   ]
  },
  {
   "cell_type": "code",
   "execution_count": 7,
   "metadata": {},
   "outputs": [
    {
     "name": "stdout",
     "output_type": "stream",
     "text": [
      "['trek', 'cannondale', 'red line', 'specialized']\n",
      "trek\n",
      "Trek\n",
      "cannondale\n",
      "specialized\n",
      "specialized\n",
      "My first bicycle was a Trek.\n"
     ]
    }
   ],
   "source": [
    "bicycles = ['trek','cannondale','red line','specialized']\n",
    "print(bicycles)\n",
    "\n",
    "#Accessing Elements in a List\n",
    "print(bicycles[0])\n",
    "\n",
    "print(bicycles[0].title())\n",
    "\n",
    "print(bicycles[1])\n",
    "print(bicycles[3])\n",
    "\n",
    "#Last Item in list\n",
    "print(bicycles[-1])\n",
    "\n",
    "message = f\"My first bicycle was a {bicycles[0].title()}.\"\n",
    "print(message)"
   ]
  },
  {
   "cell_type": "markdown",
   "metadata": {},
   "source": [
    "Try it yourself"
   ]
  },
  {
   "cell_type": "code",
   "execution_count": 8,
   "metadata": {},
   "outputs": [
    {
     "name": "stdout",
     "output_type": "stream",
     "text": [
      "John\n",
      "Mike\n",
      "Dave\n"
     ]
    }
   ],
   "source": [
    "#3-1 Names\n",
    "names = ['John','Mike','Dave']\n",
    "print(names[0])\n",
    "print(names[1])\n",
    "print(names[2])"
   ]
  },
  {
   "cell_type": "code",
   "execution_count": 10,
   "metadata": {},
   "outputs": [
    {
     "name": "stdout",
     "output_type": "stream",
     "text": [
      "Hi there, John!\n",
      "Hi there, Mike!\n",
      "Hi there, Dave!\n"
     ]
    }
   ],
   "source": [
    "#3-2 Greetings\n",
    "message = f\"Hi there, {names[0].title()}!\"\n",
    "print(message)\n",
    "\n",
    "message = f\"Hi there, {names[1].title()}!\"\n",
    "print(message)\n",
    "\n",
    "message = f\"Hi there, {names[2].title()}!\"\n",
    "print(message)"
   ]
  },
  {
   "cell_type": "code",
   "execution_count": 17,
   "metadata": {},
   "outputs": [
    {
     "name": "stdout",
     "output_type": "stream",
     "text": [
      "['honda', 'yamaha', 'suzuki']\n",
      "['ducati', 'yamaha', 'suzuki']\n",
      "['ducati', 'yamaha', 'suzuki', 'honda']\n",
      "['honda', 'yamaha', 'suzuki']\n",
      "['ducati', 'honda', 'yamaha', 'suzuki']\n",
      "['ducati', 'yamaha', 'suzuki']\n"
     ]
    }
   ],
   "source": [
    "motorcycles = ['honda','yamaha','suzuki']\n",
    "print(motorcycles)\n",
    "\n",
    "motorcycles[0] = 'ducati'\n",
    "print(motorcycles)\n",
    "\n",
    "motorcycles.append('honda')\n",
    "print(motorcycles)\n",
    "\n",
    "motorcycles = []\n",
    "motorcycles.append('honda')\n",
    "motorcycles.append('yamaha')\n",
    "motorcycles.append('suzuki')\n",
    "print(motorcycles)\n",
    "\n",
    "motorcycles.insert(0,'ducati')\n",
    "print(motorcycles)\n",
    "\n",
    "del motorcycles[1]\n",
    "print(motorcycles)"
   ]
  },
  {
   "cell_type": "code",
   "execution_count": 22,
   "metadata": {},
   "outputs": [
    {
     "name": "stdout",
     "output_type": "stream",
     "text": [
      "['honda', 'yamaha', 'suzuki']\n",
      "['yamaha', 'suzuki']\n",
      "honda\n",
      "The first motorcyle I owned was a Honda.\n"
     ]
    }
   ],
   "source": [
    "motorcycles = ['honda','yamaha','suzuki']\n",
    "print(motorcycles)\n",
    "\n",
    "popped_motorcycle = motorcycles.pop(0)\n",
    "print(motorcycles)\n",
    "print(popped_motorcycle)\n",
    "\n",
    "print(f\"The first motorcyle I owned was a {popped_motorcycle.title()}.\")"
   ]
  },
  {
   "cell_type": "code",
   "execution_count": 24,
   "metadata": {},
   "outputs": [
    {
     "name": "stdout",
     "output_type": "stream",
     "text": [
      "['honda', 'yamaha', 'suzuki', 'ducati']\n",
      "['honda', 'yamaha', 'suzuki']\n",
      "\n",
      "A Ducati is too expensive for me.\n"
     ]
    }
   ],
   "source": [
    "motorcycles = ['honda','yamaha','suzuki','ducati']\n",
    "print(motorcycles)\n",
    "\n",
    "too_expensive = 'ducati'\n",
    "motorcycles.remove(too_expensive)\n",
    "print(motorcycles)\n",
    "print(f\"\\nA {too_expensive.title()} is too expensive for me.\")"
   ]
  },
  {
   "cell_type": "markdown",
   "metadata": {},
   "source": [
    "Try it yourself section"
   ]
  },
  {
   "cell_type": "code",
   "execution_count": 39,
   "metadata": {},
   "outputs": [
    {
     "name": "stdout",
     "output_type": "stream",
     "text": [
      "Initial guest list was ['Jesus', 'Beethoven', 'Albert Einstein']\n",
      "\n",
      "Hello Jesus, would you please join me for dinner tomorrow at 8PM?\n",
      "\n",
      "Hello Albert Einstein, would you please join me for dinner tomorrow at 8PM?\n",
      "\n",
      "Hello Noah, would you please join me for dinner tomorrow at 8PM?\n",
      "\n",
      "Unfortunately, Beethoven couldn't make it for dinner.\n",
      "A bigger table/venue was located! We can have one more person!\n",
      "\n",
      "Hello Daniel, would you please join me for dinner tomorrow at 8PM?\n",
      "\n",
      "Hello Jesus, would you please join me for dinner tomorrow at 8PM?\n",
      "\n",
      "Hello Albert Einstein, would you please join me for dinner tomorrow at 8PM?\n",
      "\n",
      "Hello Job, would you please join me for dinner tomorrow at 8PM?\n",
      "\n",
      "Hello Noah, would you please join me for dinner tomorrow at 8PM?\n",
      "\n",
      "Hello Noah, would you please join me for dinner tomorrow at 8PM?\n"
     ]
    }
   ],
   "source": [
    "#3-4 Guest List\n",
    "dinner_guests = ['Jesus','Beethoven','Albert Einstein']\n",
    "print(f\"Initial guest list was {dinner_guests}\")\n",
    "guest_unable_to_attend = dinner_guests.pop(1)\n",
    "dinner_guests.append('Noah')\n",
    "\n",
    "print(f\"\\nHello {dinner_guests[0]}, would you please join me for dinner tomorrow at 8PM?\")\n",
    "print(f\"\\nHello {dinner_guests[1]}, would you please join me for dinner tomorrow at 8PM?\")\n",
    "print(f\"\\nHello {dinner_guests[2]}, would you please join me for dinner tomorrow at 8PM?\")\n",
    "\n",
    "print(f\"\\nUnfortunately, {guest_unable_to_attend} couldn't make it for dinner.\")\n",
    "\n",
    "print(\"A bigger table/venue was located! We can have one more person!\")\n",
    "dinner_guests.insert(0,\"Daniel\")\n",
    "dinner_guests.insert(3,\"Job\")\n",
    "dinner_guests.append(\"Jonah\")\n",
    "\n",
    "print(f\"\\nHello {dinner_guests[0]}, would you please join me for dinner tomorrow at 8PM?\")\n",
    "print(f\"\\nHello {dinner_guests[1]}, would you please join me for dinner tomorrow at 8PM?\")\n",
    "print(f\"\\nHello {dinner_guests[2]}, would you please join me for dinner tomorrow at 8PM?\")\n",
    "print(f\"\\nHello {dinner_guests[3]}, would you please join me for dinner tomorrow at 8PM?\")\n",
    "print(f\"\\nHello {dinner_guests[4]}, would you please join me for dinner tomorrow at 8PM?\")\n",
    "print(f\"\\nHello {dinner_guests[5]}, would you please join me for dinner tomorrow at 8PM?\")\n"
   ]
  }
 ],
 "metadata": {
  "kernelspec": {
   "display_name": "Python 3",
   "language": "python",
   "name": "python3"
  },
  "language_info": {
   "codemirror_mode": {
    "name": "ipython",
    "version": 3
   },
   "file_extension": ".py",
   "mimetype": "text/x-python",
   "name": "python",
   "nbconvert_exporter": "python",
   "pygments_lexer": "ipython3",
   "version": "3.12.2"
  }
 },
 "nbformat": 4,
 "nbformat_minor": 2
}

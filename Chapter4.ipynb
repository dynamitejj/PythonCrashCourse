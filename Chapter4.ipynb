{
 "cells": [
  {
   "cell_type": "markdown",
   "metadata": {},
   "source": [
    "# Looping through Lists"
   ]
  },
  {
   "cell_type": "code",
   "execution_count": 6,
   "metadata": {},
   "outputs": [
    {
     "name": "stdout",
     "output_type": "stream",
     "text": [
      "alice\n",
      "Alice, that was a great trick!\n",
      "I can't wait to see your next trick, Alice.\n",
      "\n",
      "david\n",
      "David, that was a great trick!\n",
      "I can't wait to see your next trick, David.\n",
      "\n",
      "carolina\n",
      "Carolina, that was a great trick!\n",
      "I can't wait to see your next trick, Carolina.\n",
      "\n",
      "Thank you, everyone. That was a great magic show!\n"
     ]
    }
   ],
   "source": [
    "magicians = ['alice','david','carolina']\n",
    "for magician in magicians:\n",
    "    print(magician)\n",
    "    print(f\"{magician.title()}, that was a great trick!\")\n",
    "    print(f\"I can't wait to see your next trick, {magician.title()}.\\n\")\n",
    "    \n",
    "print(\"Thank you, everyone. That was a great magic show!\")"
   ]
  },
  {
   "cell_type": "markdown",
   "metadata": {},
   "source": [
    "# Try it yourself"
   ]
  },
  {
   "cell_type": "code",
   "execution_count": 17,
   "metadata": {},
   "outputs": [
    {
     "name": "stdout",
     "output_type": "stream",
     "text": [
      "I like Pepperoni pizza\n",
      "I like Meat Lovers pizza\n",
      "I like Pan pizza\n",
      "\n",
      "I really love pizza!\n",
      "dog\n",
      "A dog would make a great pet\n",
      "\n",
      "cat\n",
      "A cat would make a great pet\n",
      "\n",
      "fish\n",
      "A fish would make a great pet\n",
      "\n",
      "Any of these animals would make a great pet!\n"
     ]
    }
   ],
   "source": [
    "#4-1 Pizzas\n",
    "pizza_types = ['pepperoni',\"meat lovers\",'pan']\n",
    "\n",
    "for pizza_type in pizza_types:\n",
    "    print(f\"I like {pizza_type.title()} pizza\")\n",
    "    \n",
    "print(\"\\nI really love pizza!\")\n",
    "\n",
    "#4-2 Animals\n",
    "animals = [\"dog\",\"cat\",\"fish\"]\n",
    "\n",
    "for animal in animals:\n",
    "    print(animal)\n",
    "    print(f\"A {animal} would make a great pet\\n\")\n",
    "\n",
    "print(\"Any of these animals would make a great pet!\")"
   ]
  },
  {
   "cell_type": "markdown",
   "metadata": {},
   "source": [
    "# Range"
   ]
  },
  {
   "cell_type": "code",
   "execution_count": 29,
   "metadata": {},
   "outputs": [
    {
     "name": "stdout",
     "output_type": "stream",
     "text": [
      "1\n",
      "2\n",
      "3\n",
      "4\n",
      "5\n",
      "0\n",
      "1\n",
      "2\n",
      "3\n",
      "4\n",
      "5\n",
      "[1, 2, 3, 4, 5]\n",
      "[2, 6, 10, 14, 18, 22]\n",
      "[1, 4, 9, 16, 25, 36, 49, 64, 81, 100]\n"
     ]
    }
   ],
   "source": [
    "for value in range(1,6):\n",
    "    print(value)\n",
    "    \n",
    "for value in range(6):\n",
    "    print(value)\n",
    "    \n",
    "\n",
    "numbers = list(range(1,6))\n",
    "print(numbers)\n",
    "\n",
    "even_numbers = list(range(2,23,4))\n",
    "print(even_numbers)\n",
    "\n",
    "\n",
    "squares = []\n",
    "for value in range(1,11):\n",
    "    squares.append(value ** 2)\n",
    "print(squares)"
   ]
  },
  {
   "cell_type": "markdown",
   "metadata": {},
   "source": [
    "# Simple Statistics"
   ]
  },
  {
   "cell_type": "code",
   "execution_count": 33,
   "metadata": {},
   "outputs": [
    {
     "name": "stdout",
     "output_type": "stream",
     "text": [
      "0\n",
      "9\n",
      "45\n",
      "[1, 4, 9, 16, 25, 36, 49, 64, 81, 100, 121, 144, 169, 196, 225, 256]\n"
     ]
    }
   ],
   "source": [
    "digits = [1,2,3,4,5,6,7,8,9,0]\n",
    "print(min(digits))\n",
    "print(max(digits))\n",
    "print(sum(digits))\n",
    "\n",
    "# List comprehensions\n",
    "squares = [value ** 2 for value in range(1,17)]\n",
    "print(squares)"
   ]
  },
  {
   "cell_type": "markdown",
   "metadata": {},
   "source": [
    "# Try it yourself"
   ]
  },
  {
   "cell_type": "code",
   "execution_count": 29,
   "metadata": {},
   "outputs": [
    {
     "name": "stdout",
     "output_type": "stream",
     "text": [
      "1\n",
      "2\n",
      "3\n",
      "4\n",
      "5\n",
      "6\n",
      "7\n",
      "8\n",
      "9\n",
      "10\n",
      "11\n",
      "12\n",
      "13\n",
      "14\n",
      "15\n",
      "16\n",
      "17\n",
      "18\n",
      "19\n",
      "20\n",
      "Minimum number in range is 0\n",
      "Maximum number in range is 100\n",
      "The sum of all numbers in range is 5050\n",
      "1\n",
      "3\n",
      "5\n",
      "7\n",
      "9\n",
      "11\n",
      "13\n",
      "15\n",
      "17\n",
      "19\n",
      "[3, 6, 9, 12, 15, 18, 21, 24, 27, 30]\n",
      "3\n",
      "6\n",
      "9\n",
      "12\n",
      "15\n",
      "18\n",
      "21\n",
      "24\n",
      "27\n",
      "30\n",
      "[1]\n",
      "[1, 8]\n",
      "[1, 8, 27]\n",
      "[1, 8, 27, 64]\n",
      "[1, 8, 27, 64, 125]\n",
      "[1, 8, 27, 64, 125, 216]\n",
      "[1, 8, 27, 64, 125, 216, 343]\n",
      "[1, 8, 27, 64, 125, 216, 343, 512]\n",
      "[1, 8, 27, 64, 125, 216, 343, 512, 729]\n",
      "[1, 8, 27, 64, 125, 216, 343, 512, 729, 1000]\n",
      "1\n",
      "8\n",
      "27\n",
      "64\n",
      "125\n",
      "216\n",
      "343\n",
      "512\n",
      "729\n",
      "1000\n"
     ]
    }
   ],
   "source": [
    "#4-3 Counting to Twenty\n",
    "for value in range(1,21):\n",
    "    print(value)\n",
    "    \n",
    "numbers = range(101)\n",
    "print(f\"Minimum number in range is {min(numbers)}\")\n",
    "print(f\"Maximum number in range is {max(numbers)}\")\n",
    "print(f\"The sum of all numbers in range is {sum(numbers)}\")\n",
    "\n",
    "odd_numbers = list(range(1,20,2))\n",
    "for number in odd_numbers:\n",
    "    print(number)\n",
    "    \n",
    "\n",
    "multiples_of_threes = list(range(3,31,3))\n",
    "print(multiples_of_threes)\n",
    "for number in multiples_of_threes:\n",
    "    print(number)\n",
    "\n",
    "\n",
    "#4-8\n",
    "cubes = []\n",
    "for number in range(1,11):\n",
    "    cube = number ** 3\n",
    "    cubes.append(cube)\n",
    "    print(cubes)\n",
    " \n",
    " #4-9   \n",
    "cubes = [number ** 3 for number in range(1,11)]\n",
    "for cube in cubes:\n",
    "    print(cube)"
   ]
  },
  {
   "cell_type": "markdown",
   "metadata": {},
   "source": [
    "# Slices"
   ]
  },
  {
   "cell_type": "code",
   "execution_count": 47,
   "metadata": {},
   "outputs": [
    {
     "name": "stdout",
     "output_type": "stream",
     "text": [
      "['michael', 'florence']\n",
      "['Charles', 'michael', 'eli']\n",
      "Here are the first 3 players on my team:\n",
      "\tCharles\n",
      "\tMartina\n",
      "\tMichael\n"
     ]
    }
   ],
   "source": [
    "players = ['Charles','martina','michael','florence','eli']\n",
    "\n",
    "print(players[2:4])\n",
    "\n",
    "#Third value is slice is to skip how ever many \n",
    "print(players[0::2])\n",
    "\n",
    "number = 3\n",
    "print(f\"Here are the first {number} players on my team:\")\n",
    "for player in players[:number]:\n",
    "    print(f\"\\t{player.title()}\")"
   ]
  },
  {
   "cell_type": "code",
   "execution_count": 51,
   "metadata": {},
   "outputs": [
    {
     "name": "stdout",
     "output_type": "stream",
     "text": [
      "My favorite foods are:\n",
      "['pizza', 'falafel', 'carrot cake', 'cannoli']\n",
      "\n",
      "My friend's favorite foods are:\n",
      "['pizza', 'falafel', 'carrot cake', 'ice cream']\n"
     ]
    }
   ],
   "source": [
    "my_foods = ['pizza','falafel','carrot cake']\n",
    "friend_foods = my_foods[:]\n",
    "\n",
    "my_foods.append('cannoli')\n",
    "friend_foods.append('ice cream')\n",
    "\n",
    "print(\"My favorite foods are:\")\n",
    "print(my_foods)\n",
    "\n",
    "print(\"\\nMy friend's favorite foods are:\")\n",
    "print(friend_foods)"
   ]
  },
  {
   "cell_type": "markdown",
   "metadata": {},
   "source": [
    "# Try it yourself"
   ]
  },
  {
   "cell_type": "code",
   "execution_count": 14,
   "metadata": {},
   "outputs": [
    {
     "name": "stdout",
     "output_type": "stream",
     "text": [
      "The first 3 items in the list are:\n",
      "['pepperoni', 'meat lovers', 'pan']\n",
      "The middle 3 items in the list are:\n",
      "['meat lovers', 'pan']\n",
      "the last 3 items in the list are:\n",
      "['pan', 'hawaiian', 'thin crust']\n",
      "My favorite pizzas are:\n",
      "\tpepperoni\n",
      "\tmeat lovers\n",
      "\tpan\n",
      "\thawaiian\n",
      "\tthin crust\n",
      "\tstuffed crust\n",
      "\n",
      "My friend's favorite pizzas are:\n",
      "\tpepperoni\n",
      "\tmeat lovers\n",
      "\tpan\n",
      "\thawaiian\n",
      "\tthin crust\n",
      "\tspinach\n"
     ]
    }
   ],
   "source": [
    "#4-10\n",
    "pizza_types = ['pepperoni',\"meat lovers\",'pan','hawaiian','thin crust']\n",
    "\n",
    "item_Number = 3\n",
    "print(f\"The first {item_Number} items in the list are:\")\n",
    "print(pizza_types[:3])\n",
    "\n",
    "print(f\"The middle {item_Number} items in the list are:\")\n",
    "print(pizza_types[1:3])\n",
    "\n",
    "print(f\"the last {item_Number} items in the list are:\")\n",
    "print(pizza_types[-3:])\n",
    "\n",
    "#4-11\n",
    "my_pizzas = pizza_types\n",
    "friend_pizzas = my_pizzas[:]\n",
    "\n",
    "my_pizzas.append('stuffed crust')\n",
    "friend_pizzas.append('spinach')\n",
    "\n",
    "print(\"My favorite pizzas are:\")\n",
    "for pizza in my_pizzas:\n",
    "    print(f\"\\t{pizza}\")\n",
    "\n",
    "print(\"\\nMy friend's favorite pizzas are:\")\n",
    "for pizza in friend_pizzas:\n",
    "    print(f\"\\t{pizza}\")"
   ]
  },
  {
   "cell_type": "markdown",
   "metadata": {},
   "source": [
    "# Tuples"
   ]
  },
  {
   "cell_type": "code",
   "execution_count": 21,
   "metadata": {},
   "outputs": [
    {
     "name": "stdout",
     "output_type": "stream",
     "text": [
      "200\n",
      "50\n",
      "3\n",
      "Original dimensions:\n",
      "200\n",
      "50\n",
      "\n",
      "Modified dimensions:\n",
      "400\n",
      "100\n"
     ]
    }
   ],
   "source": [
    "#Tuples go b/w parenthesis; lists go b/w brackets. Tuples don't change\n",
    "dimensions = (200,50)\n",
    "print(dimensions[0])\n",
    "print(dimensions[1])\n",
    "\n",
    "#dimensions[0] = 250 Won't work because it tries to change the tuple\n",
    "\n",
    "#The following shows that tuples are defined by the presence of a comma\n",
    "my_t = (3,)\n",
    "print(my_t[0])\n",
    "\n",
    "print(\"Original dimensions:\")\n",
    "for dimension in dimensions:\n",
    "    print(dimension)\n",
    "    \n",
    "dimensions = (400,100)\n",
    "print(\"\\nModified dimensions:\")\n",
    "for dimension in dimensions:\n",
    "    print(dimension)"
   ]
  },
  {
   "cell_type": "markdown",
   "metadata": {},
   "source": [
    "# Try it yourself"
   ]
  },
  {
   "cell_type": "code",
   "execution_count": 29,
   "metadata": {},
   "outputs": [
    {
     "name": "stdout",
     "output_type": "stream",
     "text": [
      "Our restaurant originally offered the following 5 options:\n",
      "\tSteak\n",
      "\tFish\n",
      "\tChicken\n",
      "\tTurkey\n",
      "\tSushi\n",
      "Now are restaurant offers the following:\n",
      "\tSteak\n",
      "\tFish\n",
      "\tChicken\n",
      "\tGriot\n",
      "\tLambi\n"
     ]
    }
   ],
   "source": [
    "#4-13\n",
    "foods = ('steak','fish','chicken','turkey','sushi')\n",
    "\n",
    "print(f\"Our restaurant originally offered the following {len(foods)} options:\")\n",
    "for food in foods:\n",
    "    print(f\"\\t{food.title()}\")\n",
    "\n",
    "#Following fails since it's a tuple\n",
    "#foods[0] = 'ground beef'\n",
    "\n",
    "foods = ('steak','fish','chicken','griot','lambi')\n",
    "print(\"Now are restaurant offers the following:\")\n",
    "\n",
    "for food in foods:\n",
    "    print(f\"\\t{food.title()}\")\n"
   ]
  }
 ],
 "metadata": {
  "kernelspec": {
   "display_name": "Python 3",
   "language": "python",
   "name": "python3"
  },
  "language_info": {
   "codemirror_mode": {
    "name": "ipython",
    "version": 3
   },
   "file_extension": ".py",
   "mimetype": "text/x-python",
   "name": "python",
   "nbconvert_exporter": "python",
   "pygments_lexer": "ipython3",
   "version": "3.12.2"
  }
 },
 "nbformat": 4,
 "nbformat_minor": 2
}

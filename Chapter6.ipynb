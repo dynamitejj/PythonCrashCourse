{
 "cells": [
  {
   "cell_type": "code",
   "execution_count": 10,
   "metadata": {},
   "outputs": [
    {
     "name": "stdout",
     "output_type": "stream",
     "text": [
      "{'color': 'green', 'points': 5}\n",
      "You just earned 5 points!\n",
      "{'color': 'green', 'points': 5, 'x_position': 0, 'y_position': 25}\n",
      "The alien is green.\n",
      "The alien is now yellow.\n",
      "Original position: 0\n",
      "New position: 2\n"
     ]
    }
   ],
   "source": [
    "alien_0 = {'color': 'green', 'points': 5}\n",
    "print(alien_0)\n",
    "\n",
    "new_points = alien_0['points']\n",
    "print(f\"You just earned {new_points} points!\")\n",
    "\n",
    "alien_0['x_position'] = 0\n",
    "alien_0['y_position'] = 25\n",
    "\n",
    "print(alien_0)\n",
    "\n",
    "print(f\"The alien is {alien_0['color']}.\")\n",
    "\n",
    "alien_0['color'] = 'yellow'\n",
    "print(f\"The alien is now {alien_0['color']}.\")\n",
    "\n",
    "alien_0['speed'] = 'medium'\n",
    "print(f\"Original position: {alien_0['x_position']}\")\n",
    "\n",
    "# Move the alien to the right\n",
    "# Determine how far to move the alien based on its current speed\n",
    "if alien_0['speed'] == 'slow':\n",
    "    x_increment = 1\n",
    "elif alien_0['speed'] == 'medium':\n",
    "    x_increment = 2\n",
    "else:\n",
    "    #This must be a fast alien.\n",
    "    x_increment = 3\n",
    "\n",
    "# The new position is the old position plus the increment\n",
    "alien_0['x_position'] = alien_0['x_position'] + x_increment\n",
    "print(f\"New position: {alien_0['x_position']}\")"
   ]
  },
  {
   "cell_type": "code",
   "execution_count": 12,
   "metadata": {},
   "outputs": [
    {
     "name": "stdout",
     "output_type": "stream",
     "text": [
      "{'color': 'yellow', 'points': 5, 'x_position': 2, 'y_position': 25, 'speed': 'medium'}\n",
      "{'color': 'yellow', 'x_position': 2, 'y_position': 25, 'speed': 'medium'}\n"
     ]
    }
   ],
   "source": [
    "print(alien_0)\n",
    "del alien_0['points']\n",
    "print(alien_0)"
   ]
  },
  {
   "cell_type": "code",
   "execution_count": 16,
   "metadata": {},
   "outputs": [
    {
     "name": "stdout",
     "output_type": "stream",
     "text": [
      "Sarah's favorite language is C.\n",
      "No point value assigned.\n"
     ]
    }
   ],
   "source": [
    "favorite_langueages = {\n",
    "    'jen': 'python',\n",
    "    'sarah': 'c',\n",
    "    'edward': 'rust',\n",
    "    'phil': 'python',\n",
    "}\n",
    "language = favorite_langueages['sarah'].title()\n",
    "print(f\"Sarah's favorite language is {language}.\")\n",
    "\n",
    "point_value = alien_0.get('points','No point value assigned.')\n",
    "print(point_value)"
   ]
  },
  {
   "cell_type": "code",
   "execution_count": 17,
   "metadata": {},
   "outputs": [
    {
     "name": "stdout",
     "output_type": "stream",
     "text": [
      "{'first_name': 'John', 'last_name': 'Doe', 'age': 27, 'city': 'miami'}\n"
     ]
    }
   ],
   "source": [
    "#Try it yourself\n",
    "\n",
    "#6-1 Person\n",
    "person = {\n",
    "    'first_name': 'John',\n",
    "    'last_name': 'Doe',\n",
    "    'age': 27,\n",
    "    'city': 'miami',\n",
    "}\n",
    "\n",
    "print(person)"
   ]
  },
  {
   "cell_type": "code",
   "execution_count": 33,
   "metadata": {},
   "outputs": [
    {
     "name": "stdout",
     "output_type": "stream",
     "text": [
      "\n",
      "Key: username\n",
      "Value: efermi\n",
      "\n",
      "Key: first\n",
      "Value: enrico\n",
      "\n",
      "Key: last\n",
      "Value: fermi\n",
      "Jen's favorite programming language is Python.\n",
      "Sarah's favorite programming language is C.\n",
      "Edward's favorite programming language is Rust.\n",
      "Phil's favorite programming language is Python.\n",
      "Jen\n",
      "Sarah\n",
      "Edward\n",
      "Phil\n",
      "Hi Jen.\n",
      "Hi Sarah.\n",
      "\tSarah, I see you love C!\n",
      "Hi Edward.\n",
      "Hi Phil.\n",
      "\tPhil, I see you love Python!\n",
      "Erin, please take our poll!\n"
     ]
    }
   ],
   "source": [
    "user_0 = {\n",
    "    'username': 'efermi',\n",
    "    'first': 'enrico',\n",
    "    'last': 'fermi',\n",
    "}\n",
    "\n",
    "for key, value in user_0.items():\n",
    "    print(f\"\\nKey: {key}\")\n",
    "    print(f\"Value: {value}\")\n",
    "    \n",
    "for name,language in favorite_langueages.items():\n",
    "    print(f\"{name.title()}'s favorite programming language is {language.title()}.\")\n",
    "\n",
    "for name in favorite_langueages.keys():\n",
    "    print(name.title())\n",
    "    \n",
    "friends = ['phil','sarah']\n",
    "for name in favorite_langueages.keys():\n",
    "    print(f\"Hi {name.title()}.\")\n",
    "    \n",
    "    if name in friends:\n",
    "        language = favorite_langueages[name].title()\n",
    "        print(f\"\\t{name.title()}, I see you love {language}!\")\n",
    "        \n",
    "if 'erin' not in favorite_langueages.keys():\n",
    "    print(\"Erin, please take our poll!\")"
   ]
  },
  {
   "cell_type": "code",
   "execution_count": 48,
   "metadata": {},
   "outputs": [
    {
     "name": "stdout",
     "output_type": "stream",
     "text": [
      "Edward, thank you for taking the poll.\n",
      "Jen, thank you for taking the poll.\n",
      "Phil, thank you for taking the poll.\n",
      "Sarah, thank you for taking the poll.\n",
      "The following languages have been mentioned:\n",
      "Rust\n",
      "C\n",
      "Python\n"
     ]
    }
   ],
   "source": [
    "#Looping through a dictionary in a particular order\n",
    "for name in sorted(favorite_langueages.keys()):\n",
    "    print(f\"{name.title()}, thank you for taking the poll.\")\n",
    "    \n",
    "print(\"The following languages have been mentioned:\")\n",
    "for language in set(favorite_langueages.values()): #using set to identify unique items in the collection\n",
    "    print(language.title())"
   ]
  },
  {
   "cell_type": "code",
   "execution_count": 55,
   "metadata": {},
   "outputs": [
    {
     "name": "stdout",
     "output_type": "stream",
     "text": [
      "The Nile river runs through Egypt\n",
      "The Mekong river runs through Asia\n",
      "The Volga river runs through Russia\n",
      "Nile\n",
      "Mekong\n",
      "Volga\n",
      "Egypt\n",
      "Asia\n",
      "Russia\n",
      "Please take the poll, Jamie\n",
      "Please take the poll, Andy\n",
      "Thank you for taking the poll, Sarah\n",
      "Please take the poll, Alex\n",
      "Thank you for taking the poll, Edward\n"
     ]
    }
   ],
   "source": [
    "#Try it yourself\n",
    "#6-5 Rivers\n",
    "rivers = {\n",
    "    'nile': 'egypt',\n",
    "    'mekong': 'asia',\n",
    "    'volga': 'russia',\n",
    "}\n",
    "\n",
    "for river,country in rivers.items():\n",
    "    print(f\"The {river.title()} river runs through {country.title()}\")\n",
    "    \n",
    "for river in rivers.keys():\n",
    "    print(river.title())\n",
    "\n",
    "for country in rivers.values():\n",
    "    print(country.title())\n",
    "    \n",
    "#6-6 Polling\n",
    "new_groups = ['jamie','andy','sarah','alex','EDWARD']\n",
    "for new_group in new_groups:\n",
    "    if new_group.lower() in favorite_langueages.keys():\n",
    "        print(f\"Thank you for taking the poll, {new_group.title()}.\")\n",
    "    else:\n",
    "        print(f\"Please take the poll, {new_group.title()}.\")"
   ]
  },
  {
   "cell_type": "code",
   "execution_count": 56,
   "metadata": {},
   "outputs": [
    {
     "name": "stdout",
     "output_type": "stream",
     "text": [
      "{'color': 'green', 'points': 5}\n",
      "{'color': 'yellow', 'points': 10}\n",
      "{'color': 'red', 'points': 15}\n"
     ]
    }
   ],
   "source": [
    "alien_0 = {'color': 'green','points': 5}\n",
    "alien_1 = {'color': 'yellow','points': 10}\n",
    "alien_2 = {'color': 'red','points':  15}\n",
    "\n",
    "aliens = [alien_0, alien_1, alien_2]\n",
    "for alien in aliens:\n",
    "    print(alien)\n"
   ]
  },
  {
   "cell_type": "code",
   "execution_count": 60,
   "metadata": {},
   "outputs": [
    {
     "name": "stdout",
     "output_type": "stream",
     "text": [
      "{'color': 'yellow', 'points': 10, 'speed': 'medium'}\n",
      "{'color': 'yellow', 'points': 10, 'speed': 'medium'}\n",
      "{'color': 'yellow', 'points': 10, 'speed': 'medium'}\n",
      "{'color': 'green', 'points': 5, 'speed': 'slow'}\n",
      "{'color': 'green', 'points': 5, 'speed': 'slow'}\n",
      "Total number of aliens: 30\n"
     ]
    }
   ],
   "source": [
    "aliens = []\n",
    "for alien_number in range(30):\n",
    "    new_alien = {'color': 'green', 'points': 5, 'speed': 'slow'}\n",
    "    aliens.append(new_alien)\n",
    "\n",
    "for alien in aliens[:3]:\n",
    "    if alien['color'] == 'green':\n",
    "        alien['color'] = 'yellow'\n",
    "        alien['speed'] = 'medium'\n",
    "        alien['points'] = 10\n",
    "\n",
    "for alien in aliens[:5]:\n",
    "    print(alien)\n",
    "    \n",
    "print(f\"Total number of aliens: {len(aliens)}\")"
   ]
  },
  {
   "cell_type": "code",
   "execution_count": 61,
   "metadata": {},
   "outputs": [
    {
     "name": "stdout",
     "output_type": "stream",
     "text": [
      "You order a thick-crust pizza with the following toppings:\n",
      "\tmushrooms\n",
      "\textra cheese\n"
     ]
    }
   ],
   "source": [
    "#Store information about a pizza being ordered\n",
    "pizza = {\n",
    "    'crust': 'thick',\n",
    "    'toppings': ['mushrooms','extra cheese'],\n",
    "}\n",
    "\n",
    "#Summarize the order\n",
    "print(f\"You order a {pizza['crust']}-crust pizza with the following toppings:\")\n",
    "\n",
    "for topping in pizza['toppings']:\n",
    "    print(f\"\\t{topping}\")"
   ]
  },
  {
   "cell_type": "code",
   "execution_count": 64,
   "metadata": {},
   "outputs": [
    {
     "name": "stdout",
     "output_type": "stream",
     "text": [
      "\n",
      "Jen's favorite languages are:\n",
      "\tPython\n",
      "\tRust\n",
      "\n",
      "Sarah's favorite language is:\n",
      "\tC\n",
      "\n",
      "Edward's favorite languages are:\n",
      "\tRust\n",
      "\tGo\n",
      "\n",
      "Phil's favorite languages are:\n",
      "\tPython\n",
      "\tHaskell\n"
     ]
    }
   ],
   "source": [
    "favorite_langueages = {\n",
    "    'jen': ['python','rust'],\n",
    "    'sarah': ['c'],\n",
    "    'edward': ['rust','go'],\n",
    "    'phil': ['python','haskell']\n",
    "}\n",
    "\n",
    "for name,languages in favorite_langueages.items():\n",
    "    if len(languages) == 1:\n",
    "        message = \"'s favorite language is:\"\n",
    "    else:\n",
    "        message = \"'s favorite languages are:\"\n",
    "    print(f\"\\n{name.title()}{message}\")\n",
    "    for language in languages:\n",
    "        print(f\"\\t{language.title()}\")"
   ]
  },
  {
   "cell_type": "code",
   "execution_count": 68,
   "metadata": {},
   "outputs": [
    {
     "name": "stdout",
     "output_type": "stream",
     "text": [
      "\n",
      "Username: aeinstein\n",
      "\tFull name: Albert Einstein\n",
      "\tLocation: Princeton\n",
      "\n",
      "Username: mcurie\n",
      "\tFull name: Marie Curie\n",
      "\tLocation: Paris\n"
     ]
    }
   ],
   "source": [
    "users = {\n",
    "    'aeinstein': {\n",
    "        'first': 'albert',\n",
    "        'last': 'einstein',\n",
    "        'location': 'princeton'\n",
    "    },\n",
    "    \n",
    "    'mcurie': {\n",
    "        'first': 'marie',\n",
    "        'last': 'curie',\n",
    "        'location': 'paris',\n",
    "    }\n",
    "}\n",
    "\n",
    "for username,user_info in users.items():\n",
    "    full_name = f\"{user_info['first']} {user_info['last']}\"\n",
    "    location = user_info['location']\n",
    "    \n",
    "    print(f\"\\nUsername: {username}\")\n",
    "    print(f\"\\tFull name: {full_name.title()}\")\n",
    "    print(f\"\\tLocation: {location.title()}\")"
   ]
  },
  {
   "cell_type": "code",
   "execution_count": 74,
   "metadata": {},
   "outputs": [
    {
     "name": "stdout",
     "output_type": "stream",
     "text": [
      "John Doe, of Miami, is 27 years old.\n",
      "Alex Smith, of Canada, is 56 years old.\n",
      "Beatrice Mills, of New York, is 39 years old.\n"
     ]
    }
   ],
   "source": [
    "#6-7\n",
    "people = []\n",
    "\n",
    "person_0 = {\n",
    "    'first_name': 'John',\n",
    "    'last_name': 'Doe',\n",
    "    'age': 27,\n",
    "    'city': 'miami',\n",
    "}\n",
    "people.append(person_0)\n",
    "\n",
    "person_1 = {\n",
    "    'first_name': 'Alex',\n",
    "    'last_name': 'Smith',\n",
    "    'age': 56,\n",
    "    'city': 'canada',\n",
    "}\n",
    "people.append(person_1)\n",
    "\n",
    "person_2 = {\n",
    "    'first_name': 'beatrice',\n",
    "    'last_name': 'mills',\n",
    "    'age': 39,\n",
    "    'city': 'new york',\n",
    "}\n",
    "people.append(person_2)\n",
    "\n",
    "for person in people:\n",
    "    name = f\"{person['first_name'].title()} {person['last_name'].title()}\"\n",
    "    age = f\"{person['age']}\"\n",
    "    location = f\"{person['city'].title()}\"\n",
    "    print(f\"{name}, of {location}, is {age} years old.\")"
   ]
  },
  {
   "cell_type": "code",
   "execution_count": 78,
   "metadata": {},
   "outputs": [
    {
     "name": "stdout",
     "output_type": "stream",
     "text": [
      "Kevin has a dog named Ares.\n",
      "James has a cat named Tigris.\n",
      "Ronda has a bird named Birdie.\n"
     ]
    }
   ],
   "source": [
    "#6-8\n",
    "pets = []\n",
    "\n",
    "pet = {\n",
    "    'owner': 'kevin',\n",
    "    'kind': 'dog',\n",
    "    'name': 'ares'\n",
    "}\n",
    "pets.append(pet)\n",
    "\n",
    "pet = {\n",
    "    'owner': 'james',\n",
    "    'kind': 'cat',\n",
    "    'name': 'tigris'\n",
    "}\n",
    "pets.append(pet)\n",
    "\n",
    "pet = {\n",
    "    'owner': 'ronda',\n",
    "    'kind': 'bird',\n",
    "    'name': 'birdie'\n",
    "}\n",
    "pets.append(pet)\n",
    "\n",
    "for pet in pets:\n",
    "    owner = f\"{pet['owner'].title()}\"\n",
    "    kind = f\"{pet['kind']}\"\n",
    "    pet_name = f\"{pet['name'].title()}\"\n",
    "    print(f\"{owner} has a {kind} named {pet_name}.\")"
   ]
  }
 ],
 "metadata": {
  "kernelspec": {
   "display_name": "Python 3",
   "language": "python",
   "name": "python3"
  },
  "language_info": {
   "codemirror_mode": {
    "name": "ipython",
    "version": 3
   },
   "file_extension": ".py",
   "mimetype": "text/x-python",
   "name": "python",
   "nbconvert_exporter": "python",
   "pygments_lexer": "ipython3",
   "version": "3.12.2"
  }
 },
 "nbformat": 4,
 "nbformat_minor": 2
}

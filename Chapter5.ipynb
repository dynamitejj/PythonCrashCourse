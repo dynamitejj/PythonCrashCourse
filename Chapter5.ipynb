{
 "cells": [
  {
   "cell_type": "code",
   "execution_count": 23,
   "metadata": {},
   "outputs": [
    {
     "name": "stdout",
     "output_type": "stream",
     "text": [
      "Audi\n",
      "BMW\n",
      "Subaru\n",
      "Toyota\n",
      "Hold the anchovies!\n",
      "Marie, you can post a response if you wish.\n",
      "Sorry, you are too young to vote.\n",
      "Please register to vote as soon as you turn 18!\n",
      "Your admission cost is $20\n"
     ]
    }
   ],
   "source": [
    "cars = ['audi','bmw','subaru','toyota']\n",
    "\n",
    "for car in cars:\n",
    "    if car.lower() == 'bmw':\n",
    "        print(car.upper())\n",
    "    else:\n",
    "        print(car.title())\n",
    "        \n",
    "requested_topping = 'mushrooms'\n",
    "\n",
    "if requested_topping != 'anchovies':\n",
    "    print(\"Hold the anchovies!\")\n",
    "    \n",
    "requested_toppings = ['mushrooms','onions','pineapple']\n",
    "'mushrooms' in requested_toppings\n",
    "'pepperoni' in requested_toppings\n",
    "\n",
    "banned_users = ['andrew','Carolina','DAVID']\n",
    "user = 'marie'\n",
    "\n",
    "if user not in banned_users:\n",
    "    print(f\"{user.title()}, you can post a response if you wish.\")\n",
    "    \n",
    "age = 17\n",
    "if age >= 18:\n",
    "    print(\"You are old enough to vote!\")\n",
    "    print(\"Have you registered to vote?\")\n",
    "else:\n",
    "    print(\"Sorry, you are too young to vote.\")\n",
    "    print(\"Please register to vote as soon as you turn 18!\")\n",
    "    \n",
    "age = 66\n",
    "if age <= 4:\n",
    "    price = 0\n",
    "elif age < 18:\n",
    "    price = 25\n",
    "elif age < 65:\n",
    "    price = 40\n",
    "elif age >= 65:\n",
    "    price = 20\n",
    "    \n",
    "print(f\"Your admission cost is ${price}\")"
   ]
  },
  {
   "cell_type": "code",
   "execution_count": 26,
   "metadata": {},
   "outputs": [
    {
     "name": "stdout",
     "output_type": "stream",
     "text": [
      "Adding mushrooms.\n",
      "Adding extra cheese.\n",
      "\n",
      "Finished making your pizza!\n"
     ]
    }
   ],
   "source": [
    "requested_toppings = ['mushrooms','extra cheese']\n",
    "if 'mushrooms' in requested_toppings:\n",
    "    print(\"Adding mushrooms.\")\n",
    "if 'pepperoni' in requested_toppings:\n",
    "    print(\"Adding pepperoni.\")\n",
    "if 'extra cheese' in requested_toppings:\n",
    "    print(\"Adding extra cheese.\")\n",
    "    \n",
    "print(f\"\\nFinished making your pizza!\")"
   ]
  },
  {
   "cell_type": "code",
   "execution_count": 35,
   "metadata": {},
   "outputs": [
    {
     "name": "stdout",
     "output_type": "stream",
     "text": [
      "You just earned 15 points!\n",
      "The person is currently at this stage in life: adult.\n"
     ]
    }
   ],
   "source": [
    "#5-3,5-4,5-5\n",
    "alien_color = 'red'\n",
    "\n",
    "if alien_color == 'green':\n",
    "    num_points = 5\n",
    "elif alien_color == 'yellow':\n",
    "    num_points = 10\n",
    "elif alien_color == 'red':\n",
    "    num_points = 15\n",
    "\n",
    "print(f\"You just earned {num_points} points!\")\n",
    "\n",
    "age = 30\n",
    "\n",
    "if age < 2:\n",
    "    stage = \"baby\"\n",
    "elif age >=2 and age < 4:\n",
    "    stage = \"toddler\"\n",
    "elif age >= 4 and age < 13:\n",
    "    stage = \"kid\"\n",
    "elif age >= 13 and age < 20:\n",
    "    stage = \"teenager\"\n",
    "elif age >= 20 and age < 65:\n",
    "    stage = \"adult\"\n",
    "elif age >= 65:\n",
    "    stage = \"elder\"\n",
    "\n",
    "print(f\"The person is currently at this stage in life: {stage}.\")"
   ]
  }
 ],
 "metadata": {
  "kernelspec": {
   "display_name": "Python 3",
   "language": "python",
   "name": "python3"
  },
  "language_info": {
   "codemirror_mode": {
    "name": "ipython",
    "version": 3
   },
   "file_extension": ".py",
   "mimetype": "text/x-python",
   "name": "python",
   "nbconvert_exporter": "python",
   "pygments_lexer": "ipython3",
   "version": "3.12.2"
  }
 },
 "nbformat": 4,
 "nbformat_minor": 2
}

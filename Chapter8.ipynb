{
 "cells": [
  {
   "cell_type": "code",
   "execution_count": 4,
   "metadata": {},
   "outputs": [
    {
     "name": "stdout",
     "output_type": "stream",
     "text": [
      "Hello, Jamie!\n"
     ]
    }
   ],
   "source": [
    "#Greeter\n",
    "def greet_user(username):\n",
    "    \"\"\"Display a simple greeting.\"\"\"\n",
    "    print(f\"Hello, {username.title()}!\")\n",
    "\n",
    "greet_user('jamie')"
   ]
  },
  {
   "cell_type": "code",
   "execution_count": 5,
   "metadata": {},
   "outputs": [
    {
     "name": "stdout",
     "output_type": "stream",
     "text": [
      "I'm currently learning about functions in this chaper of Python Crash Course!\n"
     ]
    }
   ],
   "source": [
    "#8-1 Message\n",
    "def display_message():\n",
    "    \"\"\"Displays a message\"\"\"\n",
    "    print(\"I'm currently learning about functions in this chaper of Python Crash Course!\")\n",
    "\n",
    "display_message()"
   ]
  },
  {
   "cell_type": "code",
   "execution_count": 6,
   "metadata": {},
   "outputs": [
    {
     "name": "stdout",
     "output_type": "stream",
     "text": [
      "One of my favorite books is To Kill A Mockingbird.\n"
     ]
    }
   ],
   "source": [
    "#8-2 Favorite Book\n",
    "def favorite_book(title):\n",
    "    print(f\"One of my favorite books is {title.title()}.\")\n",
    "\n",
    "favorite_book('to kill a mockingbird')\n"
   ]
  },
  {
   "cell_type": "code",
   "execution_count": 12,
   "metadata": {},
   "outputs": [
    {
     "name": "stdout",
     "output_type": "stream",
     "text": [
      "\n",
      "I have a hamster.\n",
      "My hamster's name is Harry.\n",
      "\n",
      "I have a cat.\n",
      "My cat's name is Ginger.\n",
      "\n",
      "I have a dog.\n",
      "My dog's name is Atlas.\n"
     ]
    }
   ],
   "source": [
    "def describe_pet(pet_name,animal_type='dog'):\n",
    "    \"\"\"Display information about a pet.\"\"\"\n",
    "    print(f\"\\nI have a {animal_type}.\")\n",
    "    print(f\"My {animal_type}'s name is {pet_name.title()}.\")\n",
    "\n",
    "describe_pet('harry','hamster')\n",
    "describe_pet(animal_type='cat',pet_name='ginger')\n",
    "describe_pet('atlas')"
   ]
  },
  {
   "cell_type": "code",
   "execution_count": 16,
   "metadata": {},
   "outputs": [
    {
     "name": "stdout",
     "output_type": "stream",
     "text": [
      "\n",
      "Your shirt size is M.\n",
      "The message that will be printed is 'I love NY'.\n"
     ]
    }
   ],
   "source": [
    "#8-3 T-Shirt\n",
    "def make_shirt(size,message):\n",
    "    \"\"\"Displays the message that will be printed on a shirt given it's size\"\"\"\n",
    "    print(f\"\\nYour shirt size is {size}.\")\n",
    "    print(f\"The message that will be printed is '{message}'.\")\n",
    "\n",
    "make_shirt(size='M',message='I love NY')"
   ]
  }
 ],
 "metadata": {
  "kernelspec": {
   "display_name": "Python 3",
   "language": "python",
   "name": "python3"
  },
  "language_info": {
   "codemirror_mode": {
    "name": "ipython",
    "version": 3
   },
   "file_extension": ".py",
   "mimetype": "text/x-python",
   "name": "python",
   "nbconvert_exporter": "python",
   "pygments_lexer": "ipython3",
   "version": "3.12.2"
  }
 },
 "nbformat": 4,
 "nbformat_minor": 2
}

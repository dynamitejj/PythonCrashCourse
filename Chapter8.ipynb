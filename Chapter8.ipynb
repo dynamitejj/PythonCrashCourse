{
 "cells": [
  {
   "cell_type": "code",
   "execution_count": 4,
   "metadata": {},
   "outputs": [
    {
     "name": "stdout",
     "output_type": "stream",
     "text": [
      "Hello, Jamie!\n"
     ]
    }
   ],
   "source": [
    "#Greeter\n",
    "def greet_user(username):\n",
    "    \"\"\"Display a simple greeting.\"\"\"\n",
    "    print(f\"Hello, {username.title()}!\")\n",
    "\n",
    "greet_user('jamie')"
   ]
  },
  {
   "cell_type": "code",
   "execution_count": 5,
   "metadata": {},
   "outputs": [
    {
     "name": "stdout",
     "output_type": "stream",
     "text": [
      "I'm currently learning about functions in this chaper of Python Crash Course!\n"
     ]
    }
   ],
   "source": [
    "#8-1 Message\n",
    "def display_message():\n",
    "    \"\"\"Displays a message\"\"\"\n",
    "    print(\"I'm currently learning about functions in this chaper of Python Crash Course!\")\n",
    "\n",
    "display_message()"
   ]
  },
  {
   "cell_type": "code",
   "execution_count": 6,
   "metadata": {},
   "outputs": [
    {
     "name": "stdout",
     "output_type": "stream",
     "text": [
      "One of my favorite books is To Kill A Mockingbird.\n"
     ]
    }
   ],
   "source": [
    "#8-2 Favorite Book\n",
    "def favorite_book(title):\n",
    "    print(f\"One of my favorite books is {title.title()}.\")\n",
    "\n",
    "favorite_book('to kill a mockingbird')\n"
   ]
  },
  {
   "cell_type": "code",
   "execution_count": 12,
   "metadata": {},
   "outputs": [
    {
     "name": "stdout",
     "output_type": "stream",
     "text": [
      "\n",
      "I have a hamster.\n",
      "My hamster's name is Harry.\n",
      "\n",
      "I have a cat.\n",
      "My cat's name is Ginger.\n",
      "\n",
      "I have a dog.\n",
      "My dog's name is Atlas.\n"
     ]
    }
   ],
   "source": [
    "def describe_pet(pet_name,animal_type='dog'):\n",
    "    \"\"\"Display information about a pet.\"\"\"\n",
    "    print(f\"\\nI have a {animal_type}.\")\n",
    "    print(f\"My {animal_type}'s name is {pet_name.title()}.\")\n",
    "\n",
    "describe_pet('harry','hamster')\n",
    "describe_pet(animal_type='cat',pet_name='ginger')\n",
    "describe_pet('atlas')"
   ]
  },
  {
   "cell_type": "code",
   "execution_count": 37,
   "metadata": {},
   "outputs": [
    {
     "name": "stdout",
     "output_type": "stream",
     "text": [
      "\n",
      "Your shirt size is M.\n",
      "The message that will be printed is 'I love NY'.\n",
      "\n",
      "Your shirt size is large.\n",
      "The message that will be printed is 'I love Python.'.\n",
      "\n",
      "Your shirt size is medium.\n",
      "The message that will be printed is 'I love Python.'.\n",
      "\n",
      "Your shirt size is small.\n",
      "The message that will be printed is 'Dogs are man's best friend'.\n",
      "\n",
      "Los Angeles is located in USA.\n",
      "\n",
      "Miami is located in USA.\n",
      "\n",
      "Paris is located in France.\n"
     ]
    }
   ],
   "source": [
    "#8-3 T-Shirt\n",
    "def make_shirt(size,message):\n",
    "    \"\"\"Displays the message that will be printed on a shirt given it's size\"\"\"\n",
    "    print(f\"\\nYour shirt size is {size}.\")\n",
    "    print(f\"The message that will be printed is '{message}'.\")\n",
    "\n",
    "make_shirt(size='M',message='I love NY')\n",
    "\n",
    "#8-4 Large Shirts\n",
    "def make_shirt(size = 'large',message = 'I love Python.'):\n",
    "    \"\"\"Displays a default message and default size L\"\"\"\n",
    "    print(f\"\\nYour shirt size is {size}.\")\n",
    "    print(f\"The message that will be printed is '{message}'.\")\n",
    "\n",
    "make_shirt()\n",
    "make_shirt(size='medium')\n",
    "make_shirt(size='small',message=\"Dogs are man's best friend\")\n",
    "\n",
    "#8-5 Cities\n",
    "def describe_city(city,country='USA'):\n",
    "    country = country.upper() if country == 'USA' else country.title()\n",
    "    print(f'\\n{city.title()} is located in {country}.')\n",
    "\n",
    "describe_city(city='los angeles')\n",
    "describe_city(city='miami')\n",
    "describe_city(city='paris',country='france')"
   ]
  },
  {
   "cell_type": "code",
   "execution_count": 43,
   "metadata": {},
   "outputs": [
    {
     "name": "stdout",
     "output_type": "stream",
     "text": [
      "Jimmy Hendrix\n",
      "John Lee Hooker\n"
     ]
    }
   ],
   "source": [
    "def get_formatted_name(first_name,last_name,middle_name=''):\n",
    "    \"\"\"Return a full name, neatly formatted.\"\"\"\n",
    "    full_name = f\"{first_name} {middle_name} {last_name}\" if middle_name else f\"{first_name} {last_name}\"\n",
    "    #full_name = f\"{first_name} {last_name}\"\n",
    "    return(full_name.title())\n",
    "\n",
    "musician = get_formatted_name('jimmy','hendrix')\n",
    "print(musician)\n",
    "\n",
    "musician = get_formatted_name('john','hooker','lee')\n",
    "print(musician)\n"
   ]
  },
  {
   "cell_type": "code",
   "execution_count": 46,
   "metadata": {},
   "outputs": [
    {
     "name": "stdout",
     "output_type": "stream",
     "text": [
      "{'first': 'jimmy', 'last': 'hendrix'}\n",
      "{'first': 'john', 'last': 'doe', 'age': 26}\n"
     ]
    }
   ],
   "source": [
    "def build_person(first_name,last_name,age=None):\n",
    "    \"\"\"Return a dictionary of information about a person.\"\"\"\n",
    "    person = {'first':first_name, 'last':last_name}\n",
    "    if age:\n",
    "        person['age'] = age\n",
    "    return person\n",
    "\n",
    "musician = build_person('jimmy','hendrix')\n",
    "print(musician)\n",
    "\n",
    "musician = build_person('john','doe',age=26)\n",
    "print(musician)"
   ]
  }
 ],
 "metadata": {
  "kernelspec": {
   "display_name": "Python 3",
   "language": "python",
   "name": "python3"
  },
  "language_info": {
   "codemirror_mode": {
    "name": "ipython",
    "version": 3
   },
   "file_extension": ".py",
   "mimetype": "text/x-python",
   "name": "python",
   "nbconvert_exporter": "python",
   "pygments_lexer": "ipython3",
   "version": "3.12.2"
  }
 },
 "nbformat": 4,
 "nbformat_minor": 2
}
